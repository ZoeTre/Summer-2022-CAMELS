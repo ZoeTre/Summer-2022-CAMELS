{
 "cells": [
  {
   "cell_type": "code",
   "execution_count": null,
   "metadata": {},
   "outputs": [],
   "source": [
    "distribution = np.random.uniform(0, 2, 20000)"
   ]
  },
  {
   "cell_type": "code",
   "execution_count": null,
   "metadata": {},
   "outputs": [],
   "source": [
    "count, bins, patches = plt.hist(distribution, bins=600,density=True, histtype='step')\n",
    "\n",
    "cdf = np.cumsum(count) * np.diff(bins)\n",
    "\n"
   ]
  },
  {
   "cell_type": "code",
   "execution_count": null,
   "metadata": {},
   "outputs": [],
   "source": [
    "n = 10\n",
    "\n",
    "cuts = np.linspace(0, 1, n+1)\n",
    "\n",
    "lower_cut = cuts[:-1]\n",
    "\n",
    "upper_cut = cuts[1:]\n",
    "\n",
    "\n"
   ]
  },
  {
   "cell_type": "code",
   "execution_count": null,
   "metadata": {},
   "outputs": [],
   "source": [
    "#np.random.seed(0)\n",
    "\n",
    "probability = []\n",
    "\n",
    "value = []\n",
    "\n",
    "for l, u in zip(lower_cut, upper_cut):\n",
    "    \n",
    "    sample = np.random.uniform(l, u)\n",
    "    \n",
    "    probability.append(sample)\n",
    "    \n",
    "    value.append(np.quantile(distribution, sample))  \n",
    "    \n",
    "    \n",
    "\n"
   ]
  },
  {
   "cell_type": "code",
   "execution_count": null,
   "metadata": {},
   "outputs": [],
   "source": [
    "\n",
    "\n",
    "plt.plot(bins[:-1], cdf, '-', zorder=-5)\n",
    "plt.scatter(vals, probs, marker='x', color='C3')\n",
    "\n",
    "plt.show()"
   ]
  },
  {
   "cell_type": "code",
   "execution_count": 24,
   "metadata": {},
   "outputs": [],
   "source": [
    "import numpy as np"
   ]
  },
  {
   "cell_type": "code",
   "execution_count": 25,
   "metadata": {},
   "outputs": [],
   "source": [
    "#Lucia's hypercube:\n",
    "\n",
    "# omega matt = [0.1, 0.5]\n",
    "\n",
    "# sigma8 = [0.6, 1.0]\n",
    "\n",
    "# Asn2 = [-2, 2]\n",
    "\n",
    "# Asn1 = [0.25, 4.0]\n",
    "\n",
    "# Aagn = [0.25, 4.0]"
   ]
  },
  {
   "cell_type": "code",
   "execution_count": 26,
   "metadata": {},
   "outputs": [],
   "source": [
    "M = np.random.uniform(0.1, 0.5, 20000)\n",
    "\n",
    "S = np.random.uniform(0.6, 1.0, 20000)\n",
    "\n",
    "Asn2 = np.random.uniform(-2, 2, 20000)\n",
    "\n",
    "Asn1 = np.random.uniform(0.25, 4, 20000)\n",
    "\n",
    "Aagn = np.random.uniform(0.25, 4, 20000)"
   ]
  },
  {
   "cell_type": "code",
   "execution_count": 40,
   "metadata": {},
   "outputs": [],
   "source": [
    "params = [M,S, Asn2, Asn1, Aagn]\n",
    "\n"
   ]
  },
  {
   "cell_type": "code",
   "execution_count": 135,
   "metadata": {},
   "outputs": [],
   "source": [
    "n = 10\n",
    "\n",
    "cuts = np.linspace(0, 1, n+1)\n",
    "\n",
    "lower_cut = cuts[:-1]\n",
    "\n",
    "upper_cut = cuts[1:]\n",
    "\n",
    "\n",
    "\n",
    "valueM = []\n",
    "\n",
    "valueS = []\n",
    "\n",
    "valueA2 = []\n",
    "\n",
    "valueA1 = []\n",
    "\n",
    "valueAg = []\n",
    "\n",
    "#tst_ls = []\n",
    "\n",
    "# for p in params:\n",
    "    \n",
    "#     for l, u in zip(lower_cut, upper_cut):\n",
    "\n",
    "#         sample = np.random.uniform(l, u)\n",
    "\n",
    "#         probability.append(sample)\n",
    "        \n",
    "#         val = np.quantile(p, sample)\n",
    "        \n",
    "#         value.append(np.quantile(p, sample))\n",
    "\n",
    "\n",
    "#make this loop reproducible \n",
    "        \n",
    "for l, u in zip(lower_cut, upper_cut):\n",
    "\n",
    "    sample = np.random.uniform(l, u)\n",
    "\n",
    "    \n",
    "    valueM.append(np.quantile(M, sample))\n",
    "    \n",
    "   \n",
    "    valueS.append(np.quantile(S, sample)) \n",
    "\n",
    "\n",
    "    valueA2.append(np.quantile(Asn2, sample))\n",
    "\n",
    "\n",
    "    valueA1.append(np.quantile(Asn1, sample))\n",
    "\n",
    " \n",
    "    valueAg.append(np.quantile(Aagn, sample))\n",
    "\n",
    "\n",
    "\n"
   ]
  },
  {
   "cell_type": "code",
   "execution_count": 29,
   "metadata": {},
   "outputs": [],
   "source": [
    "#shuffle through each value list & pair \n",
    "\n",
    "#\n",
    "\n",
    "LH_samples = [np.random.permutation(valueM), np.random.permutation(valueS), \n",
    "            \n",
    "            np.random.permutation(valueA2), np.random.permutation(valueA1), \n",
    "            \n",
    "            np.random.permutation(valueAg)]"
   ]
  },
  {
   "cell_type": "code",
   "execution_count": 30,
   "metadata": {},
   "outputs": [
    {
     "name": "stdout",
     "output_type": "stream",
     "text": [
      "[array([0.4263924 , 0.47167853, 0.12400942, 0.32234338, 0.29213876,\n",
      "       0.22340852, 0.34286657, 0.17073772, 0.20621461, 0.4124646 ]), array([0.91036361, 0.81915045, 0.62515913, 0.70657013, 0.67126464,\n",
      "       0.8404118 , 0.97144098, 0.7235432 , 0.92450758, 0.78978302]), array([-1.2949353 , -0.93723118,  1.25143347,  0.20929428, -0.77116937,\n",
      "        1.11294354, -0.0836403 , -1.75925218,  0.41916832,  1.71680728]), array([1.25708058, 3.74772066, 3.18158411, 2.0688161 , 3.32107508,\n",
      "       2.33279413, 1.42572781, 0.9126755 , 2.52001823, 0.46930631]), array([3.17854809, 1.43284005, 0.48275514, 2.53745251, 2.06782405,\n",
      "       2.34139829, 3.31534934, 0.91762776, 1.27962215, 3.7384706 ])]\n"
     ]
    }
   ],
   "source": [
    "print(LH_samples)"
   ]
  },
  {
   "cell_type": "code",
   "execution_count": 31,
   "metadata": {},
   "outputs": [],
   "source": [
    "pairs = []\n",
    "\n",
    "\n",
    "\n",
    "for i in range(0, n):\n",
    "    \n",
    "    pairs2 = []\n",
    "    \n",
    "    pairs.append(pairs2)\n",
    "    \n",
    "    for j in range(0, len(params)):\n",
    "        \n",
    "        pairs2.append(LH_samples[j][i])\n",
    "    "
   ]
  },
  {
   "cell_type": "code",
   "execution_count": 32,
   "metadata": {},
   "outputs": [
    {
     "name": "stdout",
     "output_type": "stream",
     "text": [
      "[[0.426392395832758, 0.9103636065857955, -1.2949352952923796, 1.2570805772020746, 3.1785480935541024], [0.47167853199636256, 0.8191504519999148, -0.9372311832492476, 3.7477206620474224, 1.4328400491294657], [0.12400941750136327, 0.6251591327383723, 1.2514334727147847, 3.1815841094358968, 0.4827551409241993], [0.3223433839816943, 0.7065701320697265, 0.20929427762986275, 2.0688161038016584, 2.537452511710981], [0.29213876066600236, 0.6712646385048495, -0.7711693672197689, 3.3210750775399283, 2.0678240496456763], [0.22340852154358692, 0.8404117986514773, 1.1129435366260738, 2.332794126201172, 2.341398285102133], [0.34286657142782745, 0.971440979362093, -0.08364030257072971, 1.4257278065020418, 3.315349337266281], [0.170737722708119, 0.7235432015361439, -1.759252180815515, 0.9126755026609172, 0.9176277571185345], [0.20621460514465184, 0.9245075761526478, 0.419168323308401, 2.5200182306691583, 1.2796221450045717], [0.4124645968140458, 0.7897830173911886, 1.716807280408713, 0.4693063077457666, 3.7384706040528886]]\n"
     ]
    }
   ],
   "source": [
    "print(pairs)"
   ]
  },
  {
   "cell_type": "code",
   "execution_count": 147,
   "metadata": {},
   "outputs": [],
   "source": [
    "pairs_t = []\n",
    "\n",
    "for i in range(0, n):\n",
    "    \n",
    "    \n",
    "    for j in range(0, len(params)):\n",
    "    \n",
    "        pairs_t.append(LH_samples[j][i])\n",
    "        \n",
    "        \n",
    "count = 0\n",
    "\n",
    "\n",
    "for i in pairs_t:\n",
    "\n",
    "    if i == \",\":\n",
    "\n",
    "        count+=1\n",
    "\n",
    "        if count%5 == 0:\n",
    "\n",
    "            pairs_t.insert(\"\\n\")"
   ]
  },
  {
   "cell_type": "code",
   "execution_count": 148,
   "metadata": {},
   "outputs": [
    {
     "name": "stdout",
     "output_type": "stream",
     "text": [
      "[0.426392395832758, 0.9103636065857955, -1.2949352952923796, 1.2570805772020746, 3.1785480935541024, 0.47167853199636256, 0.8191504519999148, -0.9372311832492476, 3.7477206620474224, 1.4328400491294657, 0.12400941750136327, 0.6251591327383723, 1.2514334727147847, 3.1815841094358968, 0.4827551409241993, 0.3223433839816943, 0.7065701320697265, 0.20929427762986275, 2.0688161038016584, 2.537452511710981, 0.29213876066600236, 0.6712646385048495, -0.7711693672197689, 3.3210750775399283, 2.0678240496456763, 0.22340852154358692, 0.8404117986514773, 1.1129435366260738, 2.332794126201172, 2.341398285102133, 0.34286657142782745, 0.971440979362093, -0.08364030257072971, 1.4257278065020418, 3.315349337266281, 0.170737722708119, 0.7235432015361439, -1.759252180815515, 0.9126755026609172, 0.9176277571185345, 0.20621460514465184, 0.9245075761526478, 0.419168323308401, 2.5200182306691583, 1.2796221450045717, 0.4124645968140458, 0.7897830173911886, 1.716807280408713, 0.4693063077457666, 3.7384706040528886]\n"
     ]
    }
   ],
   "source": [
    "print(pairs_t)"
   ]
  },
  {
   "cell_type": "code",
   "execution_count": 149,
   "metadata": {},
   "outputs": [],
   "source": [
    "f = open(\"LHC_test.txt\", \"x\")\n"
   ]
  },
  {
   "cell_type": "code",
   "execution_count": 150,
   "metadata": {},
   "outputs": [],
   "source": [
    "f = open(\"LHC_test.txt\", \"w\")\n"
   ]
  },
  {
   "cell_type": "code",
   "execution_count": 151,
   "metadata": {},
   "outputs": [
    {
     "name": "stdout",
     "output_type": "stream",
     "text": [
      "0.426392395832758, 0.9103636065857955, -1.2949352952923796, 1.2570805772020746, 3.1785480935541024, 0.47167853199636256, 0.8191504519999148, -0.9372311832492476, 3.7477206620474224, 1.4328400491294657, 0.12400941750136327, 0.6251591327383723, 1.2514334727147847, 3.1815841094358968, 0.4827551409241993, 0.3223433839816943, 0.7065701320697265, 0.20929427762986275, 2.0688161038016584, 2.537452511710981, 0.29213876066600236, 0.6712646385048495, -0.7711693672197689, 3.3210750775399283, 2.0678240496456763, 0.22340852154358692, 0.8404117986514773, 1.1129435366260738, 2.332794126201172, 2.341398285102133, 0.34286657142782745, 0.971440979362093, -0.08364030257072971, 1.4257278065020418, 3.315349337266281, 0.170737722708119, 0.7235432015361439, -1.759252180815515, 0.9126755026609172, 0.9176277571185345, 0.20621460514465184, 0.9245075761526478, 0.419168323308401, 2.5200182306691583, 1.2796221450045717, 0.4124645968140458, 0.7897830173911886, 1.716807280408713, 0.4693063077457666, 3.7384706040528886\n"
     ]
    }
   ],
   "source": [
    "\n",
    "\n",
    "pairs_t_str = str(pairs_t)\n",
    "\n",
    "pairs_t_str = pairs_t_str.replace(\"]\", \"\")\n",
    "\n",
    "pairs_t_str = pairs_t_str.replace(\"[\", \"\")\n",
    "\n",
    "print(pairs_t_str)"
   ]
  },
  {
   "cell_type": "code",
   "execution_count": 152,
   "metadata": {},
   "outputs": [
    {
     "data": {
      "text/plain": [
       "24"
      ]
     },
     "execution_count": 152,
     "metadata": {},
     "output_type": "execute_result"
    }
   ],
   "source": [
    "f.write('M,S, Asn2, Asn1, Aagn, \\n')"
   ]
  },
  {
   "cell_type": "code",
   "execution_count": 153,
   "metadata": {},
   "outputs": [
    {
     "data": {
      "text/plain": [
       "1001"
      ]
     },
     "execution_count": 153,
     "metadata": {},
     "output_type": "execute_result"
    }
   ],
   "source": [
    "f.write(pairs_t_str)"
   ]
  },
  {
   "cell_type": "code",
   "execution_count": 143,
   "metadata": {},
   "outputs": [],
   "source": [
    "# count = 0\n",
    "\n",
    "\n",
    "# for i in pairs_t_str:\n",
    "\n",
    "#     if i == \",\":\n",
    "\n",
    "#         count+=1\n",
    "\n",
    "#         if count%5 == 0:\n",
    "\n",
    "#             pairs_t_str.insert(\"\\n\")\n",
    "            \n",
    "#             #f.write(\"\\n\")\n",
    "            \n",
    "            \n",
    "\n"
   ]
  },
  {
   "cell_type": "code",
   "execution_count": 102,
   "metadata": {},
   "outputs": [
    {
     "name": "stdout",
     "output_type": "stream",
     "text": [
      "M,S, Asn2, Asn1, Aagn, 0.426392395832758, 0.9103636065857955, -1.2949352952923796, 1.2570805772020746, 3.1785480935541024, 0.47167853199636256, 0.8191504519999148, -0.9372311832492476, 3.7477206620474224, 1.4328400491294657, 0.12400941750136327, 0.6251591327383723, 1.2514334727147847, 3.1815841094358968, 0.4827551409241993, 0.3223433839816943, 0.7065701320697265, 0.20929427762986275, 2.0688161038016584, 2.537452511710981, 0.29213876066600236, 0.6712646385048495, -0.7711693672197689, 3.3210750775399283, 2.0678240496456763, 0.22340852154358692, 0.8404117986514773, 1.1129435366260738, 2.332794126201172, 2.341398285102133, 0.34286657142782745, 0.971440979362093, -0.08364030257072971, 1.4257278065020418, 3.315349337266281, 0.170737722708119, 0.7235432015361439, -1.759252180815515, 0.9126755026609172, 0.9176277571185345, 0.20621460514465184, 0.9245075761526478, 0.419168323308401, 2.5200182306691583, 1.2796221450045717, 0.4124645968140458, 0.7897830173911886, 1.716807280408713, 0.4693063077457666, 3.7384706040528886\n"
     ]
    }
   ],
   "source": [
    "#print(pairs_t_str)"
   ]
  },
  {
   "cell_type": "code",
   "execution_count": null,
   "metadata": {},
   "outputs": [],
   "source": []
  },
  {
   "cell_type": "code",
   "execution_count": 154,
   "metadata": {},
   "outputs": [],
   "source": [
    "f.close()"
   ]
  },
  {
   "cell_type": "code",
   "execution_count": null,
   "metadata": {},
   "outputs": [],
   "source": []
  }
 ],
 "metadata": {
  "kernelspec": {
   "display_name": "Python 3",
   "language": "python",
   "name": "python3"
  },
  "language_info": {
   "codemirror_mode": {
    "name": "ipython",
    "version": 3
   },
   "file_extension": ".py",
   "mimetype": "text/x-python",
   "name": "python",
   "nbconvert_exporter": "python",
   "pygments_lexer": "ipython3",
   "version": "3.7.3"
  }
 },
 "nbformat": 4,
 "nbformat_minor": 4
}
