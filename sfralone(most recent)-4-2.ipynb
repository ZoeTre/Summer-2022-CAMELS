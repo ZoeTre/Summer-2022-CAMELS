{
 "cells": [
  {
   "cell_type": "code",
   "execution_count": 1,
   "metadata": {},
   "outputs": [],
   "source": [
    "#sfr alone "
   ]
  },
  {
   "cell_type": "code",
   "execution_count": 1,
   "metadata": {},
   "outputs": [],
   "source": [
    "import numpy as np\n",
    "import pandas as pd\n",
    "import os\n",
    "import subprocess\n",
    "import math\n",
    "import matplotlib.pyplot as plt\n",
    "import glob"
   ]
  },
  {
   "cell_type": "code",
   "execution_count": 2,
   "metadata": {},
   "outputs": [],
   "source": [
    "# def csmc_str_hst(StartSim, EndSim):\n",
    "    \n",
    "#     import glob\n",
    "\n",
    "#     galprop_fields = ['redshift', 'sfr']\n",
    "#     #galprop_fields = ['sfr']\n",
    "    \n",
    "#     ############\n",
    "    \n",
    "    \n",
    "#     for i in np.arange(StartSim, EndSim, 1):\n",
    "        \n",
    "#         p = '/mnt/ceph/users/camels/PUBLIC_RELEASE/SCSAM/LH_'+str(i)\n",
    "        \n",
    "#         root_dir_PB=str(p) + '/sc-sam'  \n",
    "        \n",
    "       \n",
    "\n",
    "\n",
    "#     def load_catalog(fields, root_dir, halos=False, max_rows_per_subvol=None, verbose=True):\n",
    "#         g_cols = ['halo_index', 'birthhaloid', 'roothaloid', 'redshift', 'sat_type',\n",
    "#                     'mhalo', 'm_strip', 'rhalo', 'mstar', 'mbulge', 'mstar_merge', 'v_disk',\n",
    "#                     'sigma_bulge', 'r_disk', 'r_bulge', 'mcold', 'mHI', 'mH2', 'mHII', 'Metal_star',\n",
    "#                     'Metal_cold', 'sfr', 'sfrave20myr', 'sfrave100myr', 'sfrave1gyr',\n",
    "#                     'mass_outflow_rate', 'metal_outflow_rate', 'mBH', 'maccdot', 'maccdot_radio',\n",
    "#                     'tmerge', 'tmajmerge', 'mu_merge', 't_sat', 'r_fric', 'x_position',\n",
    "#                     'y_position', 'z_position', 'vx', 'vy', 'vz']\n",
    "#         h_cols = ['halo_index', 'halo_id', 'roothaloid', 'orig_halo_ID', 'redshift', 'm_vir', 'c_nfw',\n",
    "#                     'spin', 'm_hot', 'mstar_diffuse', 'mass_ejected', 'mcooldot',\n",
    "#                     'maccdot_pristine', 'maccdot_reaccrete', 'maccdot_metal_reaccrete',\n",
    "#                     'maccdot_metal', 'mdot_eject', 'mdot_metal_eject', 'maccdot_radio',\n",
    "#                     'Metal_hot', 'Metal_ejected', 'snap_num']\n",
    "        \n",
    "#         # Select set of columns\n",
    "#         cols = h_cols if halos else g_cols\n",
    "#         data_file = \"haloprop_0-99.dat\" if halos else \"galprop_0-99.dat\"\n",
    "\n",
    "#         # Check that requested fields are valid\n",
    "#         bad_fields = []\n",
    "#         for f in fields:\n",
    "#             if f not in cols:\n",
    "#                 bad_fields.append(f)\n",
    "#             if len(bad_fields) > 0:\n",
    "#                 raise KeyError(\"Fields %s not found. Available fields: %s\" % (bad_fields, cols))\n",
    "\n",
    "#       # Determine which column indices to keep\n",
    "#         use_cols = [cols.index(col) for col in cols if col in fields]\n",
    "\n",
    "#       # Count subvolumes\n",
    "#         subvol_dirs = glob.glob(\"%s/*_*_*\" % root_dir) #might be here. does root_dir need to be root_dir_PB ?\n",
    "        \n",
    "#     # Loop over sub-volumes and load data\n",
    "#         d = []\n",
    "        \n",
    "#         for i, subvol_dir in enumerate(subvol_dirs):\n",
    "            \n",
    "#             if verbose:\n",
    "                \n",
    "#                 print(\"Loading subvolume %d / %d\" % (i+1, len(subvol_dirs)))\n",
    "                \n",
    "#                 _d = np.genfromtxt(os.path.join(subvol_dir, data_file),\n",
    "#                                    comments='#',\n",
    "#                                    usecols=use_cols,\n",
    "#                                    max_rows=max_rows_per_subvol)\n",
    "                \n",
    "#                 d.append(_d)\n",
    "                \n",
    "#                 if verbose:\n",
    "                    \n",
    "#                     print(\"    Loaded %d rows\" % _d.shape[0])\n",
    "                    \n",
    "#                     d = np.concatenate(d)\n",
    "                    \n",
    "#                     return d\n",
    "\n",
    "      \n",
    "\n",
    "#     str_hist = load_catalog(galprop_fields, root_dir_PB, halos=False, max_rows_per_subvol=None, verbose=True)\n",
    "    \n",
    "#     return str_hist\n",
    "    "
   ]
  },
  {
   "cell_type": "code",
   "execution_count": 135,
   "metadata": {},
   "outputs": [
    {
     "name": "stdout",
     "output_type": "stream",
     "text": [
      "Loading subvolume 1 / 8\n",
      "    Loaded 1330329 rows\n"
     ]
    }
   ],
   "source": [
    "# csmhist1 = csmc_str_hst(0, 1) "
   ]
  },
  {
   "cell_type": "code",
   "execution_count": 22,
   "metadata": {},
   "outputs": [],
   "source": [
    "# csmhist1"
   ]
  },
  {
   "cell_type": "code",
   "execution_count": 387,
   "metadata": {},
   "outputs": [],
   "source": [
    "# redshifts, sfr = zip(*csmhist1)\n",
    "\n",
    "# RedshiftsFULL = list(redshifts)\n",
    "\n",
    "# sfrFULL = list(sfr)\n",
    "\n",
    "\n",
    "# Redshifts = csmhist1[:, 0]\n",
    "\n",
    "# sfr = csmhist1[:, 1]\n",
    "\n"
   ]
  },
  {
   "cell_type": "code",
   "execution_count": 21,
   "metadata": {},
   "outputs": [],
   "source": [
    "# print(redshifts)\n",
    "\n",
    "# print(sfr)"
   ]
  },
  {
   "cell_type": "code",
   "execution_count": 138,
   "metadata": {},
   "outputs": [],
   "source": [
    "# Redshifts = (sfrFULL[0:10000])\n",
    "\n",
    "# sfr = (RedshiftsFULL[0:10000])"
   ]
  },
  {
   "cell_type": "code",
   "execution_count": 20,
   "metadata": {},
   "outputs": [],
   "source": [
    "# print(len(sfr))\n",
    "# print(len(Redshifts))"
   ]
  },
  {
   "cell_type": "code",
   "execution_count": 52,
   "metadata": {},
   "outputs": [],
   "source": [
    "# for index, value in enumerate(Redshifts):\n",
    "    \n",
    "#     if Redshifts.count(value) > 1: \n",
    "        \n",
    "#         print('true')\n",
    "        \n",
    "#     else:\n",
    "        \n",
    "#         print('false')\n",
    "        "
   ]
  },
  {
   "cell_type": "code",
   "execution_count": 381,
   "metadata": {},
   "outputs": [],
   "source": [
    "# Redshifts = [1,2,3,5,3,1, 5, 5]\n",
    "# # #what i expect to get [(1, 40), (3,33), (5, 45)]\n",
    "# sfr = [10, 15, 21, 22, 12, 30, 12, 11]"
   ]
  },
  {
   "cell_type": "code",
   "execution_count": 19,
   "metadata": {},
   "outputs": [],
   "source": [
    "# track_true = 0\n",
    "\n",
    "# track_false = 0\n",
    "\n",
    "# for index, value in enumerate(Redshifts):\n",
    "    \n",
    "#     if Redshifts.count(value) > 1: \n",
    "        \n",
    "#         #print('true');\n",
    "        \n",
    "#         track_true+=1\n",
    "        \n",
    "    \n",
    "        \n",
    "#     else:\n",
    "        \n",
    "#         #print('false')\n",
    "        \n",
    "#         track_false+=1\n",
    "        \n",
    "\n",
    "# print(track_false)\n",
    "\n",
    "# print(track_true)\n",
    "        "
   ]
  },
  {
   "cell_type": "code",
   "execution_count": 382,
   "metadata": {},
   "outputs": [],
   "source": [
    "# rshft_rep = []\n",
    "\n",
    "# sft = []\n",
    "\n",
    "# for index, value in enumerate(Redshifts):\n",
    "    \n",
    "#     if Redshifts.count(value) > 1: \n",
    "        \n",
    "        \n",
    "#         rshft_rep.append(value);\n",
    "        \n",
    "#         sft.append(sfr[index])\n",
    "        \n",
    "    \n",
    "        \n",
    "        \n",
    "# nw_ls = list(zip(rshft_rep, sft))\n",
    "\n",
    "\n",
    "#list of unique redshifts (try: np unique fn)\n",
    "\n",
    "#then try sorting redshifts then sum when repeated (look at:boolean arrays --> index arrays w/ matching cndtn.)"
   ]
  },
  {
   "cell_type": "code",
   "execution_count": 383,
   "metadata": {},
   "outputs": [],
   "source": [
    "# sfrr_dict = {}\n",
    "\n",
    "# for redshift, value in nw_ls:\n",
    "        \n",
    "#         sfr_sums = sfrr_dict.get(redshift, 0) + value\n",
    "#         sfrr_dict[redshift] = sfr_sums\n",
    "\n",
    "    "
   ]
  },
  {
   "cell_type": "code",
   "execution_count": 18,
   "metadata": {},
   "outputs": [],
   "source": [
    "# print(sfrr_dict.items())"
   ]
  },
  {
   "cell_type": "code",
   "execution_count": 246,
   "metadata": {},
   "outputs": [],
   "source": [
    "# x = sfrr_dict.keys()\n",
    "\n",
    "\n",
    "\n",
    "\n",
    "# y = sfrr_dict.values()\n",
    "\n",
    "# y = [i/(205**3) for i in y]\n"
   ]
  },
  {
   "cell_type": "code",
   "execution_count": 17,
   "metadata": {},
   "outputs": [],
   "source": [
    "# print(sorted(x))"
   ]
  },
  {
   "cell_type": "code",
   "execution_count": 108,
   "metadata": {},
   "outputs": [],
   "source": [
    "# print(x)\n",
    "\n",
    "# print(y)"
   ]
  },
  {
   "cell_type": "code",
   "execution_count": 16,
   "metadata": {},
   "outputs": [],
   "source": [
    "# plt.scatter(x, y)\n",
    "\n",
    "# plt.rcParams[\"figure.figsize\"] = (16,11)\n",
    "\n",
    "# plt.yscale('log')\n",
    "\n",
    "\n",
    "\n",
    "# plt.show()"
   ]
  },
  {
   "cell_type": "code",
   "execution_count": null,
   "metadata": {},
   "outputs": [],
   "source": [
    "##single redshift at a time"
   ]
  },
  {
   "cell_type": "code",
   "execution_count": 15,
   "metadata": {},
   "outputs": [],
   "source": [
    "# rshft_rep = []\n",
    "\n",
    "# sft = []\n",
    "\n",
    "# chosen_rshift = 1.3708e-06\n",
    "\n",
    "# true_count = 0 \n",
    "\n",
    "# false_count = 0\n",
    "\n",
    "# for index, value in enumerate(Redshifts):\n",
    "    \n",
    "#     if value == (chosen_rshift) and Redshifts.count(value) > 1 :\n",
    "        \n",
    "#         #print('true')\n",
    "        \n",
    "#         true_count+=1\n",
    "        \n",
    "#     else:\n",
    "        \n",
    "#         false_count+=1\n",
    "        \n",
    "#         #print('false')\n",
    "    \n",
    "# #         rshft_rep.append(value);\n",
    "        \n",
    "# #         sft.append(sfr[index])\n",
    "        \n",
    "    \n",
    "        \n",
    "        \n",
    "# #nw_ls = list(zip(rshft_rep, sft))\n",
    "\n",
    "# print(true_count)\n",
    "\n",
    "# #print(false_count)\n"
   ]
  },
  {
   "cell_type": "code",
   "execution_count": 14,
   "metadata": {},
   "outputs": [],
   "source": [
    "# nw_ls"
   ]
  },
  {
   "cell_type": "code",
   "execution_count": 13,
   "metadata": {},
   "outputs": [],
   "source": [
    "# x = []\n",
    "\n",
    "# y = []"
   ]
  },
  {
   "cell_type": "code",
   "execution_count": 12,
   "metadata": {},
   "outputs": [],
   "source": [
    "# print(type(x))"
   ]
  },
  {
   "cell_type": "code",
   "execution_count": 462,
   "metadata": {},
   "outputs": [],
   "source": [
    "# def change_redshift(rshft):\n",
    "    \n",
    "#     rshft_rep_R2 = []\n",
    "\n",
    "#     sft_R2 = []\n",
    "\n",
    "#     chosen_rshift_2 = rshft\n",
    "\n",
    "#     # true_count = 0 \n",
    "\n",
    "#     # false_count = 0\n",
    "\n",
    "#     for index, value in enumerate(Redshifts):\n",
    "\n",
    "#         if value == (chosen_rshift_2) and Redshifts.count(value) > 1 :\n",
    "\n",
    "#             rshft_rep_R2.append(value);\n",
    "\n",
    "#             sft_R2.append(sfr[index])\n",
    "\n",
    "#             print(sfr[index])\n",
    "\n",
    "#             print(value)\n",
    "\n",
    "\n",
    "\n",
    "\n",
    "#     nw_ls_R2 = list(zip(rshft_rep_R2, sft_R2))\n",
    "\n",
    "#     ###\n",
    "\n",
    "#     sfrr_dict_R2 = {}\n",
    "\n",
    "#     for redshift, value in nw_ls_R2:\n",
    "\n",
    "#             sfr_sums_R2 = sfrr_dict_R2.get(redshift, 0) + value\n",
    "#             sfrr_dict_R2[redshift] = sfr_sums_R2\n",
    "\n",
    "\n",
    "\n",
    "\n",
    "#     ###\n",
    "    \n",
    "#     x1 = list([*sfrr_dict_R2.keys()])\n",
    "    \n",
    "#     y1 = [*sfrr_dict_R2.values()]\n",
    "    \n",
    "#     #print(type(x1))\n",
    "    \n",
    "# #     print(y1)\n",
    "    \n",
    "    \n",
    "\n",
    "#     x.append(x1)\n",
    "    \n",
    "#     y.append(y1)\n",
    "    \n",
    "#     #print(type(x))\n",
    "    \n",
    "\n",
    "\n",
    "\n",
    "\n",
    "# #     y.append(y1)\n"
   ]
  },
  {
   "cell_type": "code",
   "execution_count": 463,
   "metadata": {},
   "outputs": [],
   "source": [
    "# r_list = [1.3708e-06,3.51996e-05,2.53507,0.0172191,1.78224,1.28129, 0.510094, 4.18731e-05,0.510094,1.04586]\n",
    "\n",
    "\n",
    "# #r_list = [1]\n",
    "# for i in r_list:\n",
    "    \n",
    "#     change_redshift(i)"
   ]
  },
  {
   "cell_type": "code",
   "execution_count": 10,
   "metadata": {},
   "outputs": [],
   "source": [
    "# print(x)"
   ]
  },
  {
   "cell_type": "code",
   "execution_count": 11,
   "metadata": {},
   "outputs": [],
   "source": [
    "# print(y)"
   ]
  },
  {
   "cell_type": "code",
   "execution_count": 366,
   "metadata": {},
   "outputs": [
    {
     "name": "stdout",
     "output_type": "stream",
     "text": [
      "<class 'list'>\n"
     ]
    }
   ],
   "source": [
    "# print(type(x))"
   ]
  },
  {
   "cell_type": "code",
   "execution_count": null,
   "metadata": {},
   "outputs": [],
   "source": [
    "\n",
    "\n",
    "\n",
    "#y = [i/(205**3) for i in y]"
   ]
  },
  {
   "cell_type": "code",
   "execution_count": 9,
   "metadata": {
    "scrolled": true
   },
   "outputs": [],
   "source": [
    "\n",
    "# plt.plot(x, y)\n",
    "\n",
    "\n",
    "\n",
    "# plt.rcParams[\"figure.figsize\"] = (16,11)\n",
    "\n",
    "# plt.yscale('log')\n",
    "\n",
    "\n",
    "\n",
    "# plt.show()"
   ]
  },
  {
   "cell_type": "code",
   "execution_count": 394,
   "metadata": {},
   "outputs": [],
   "source": [
    "# x = []\n",
    "\n",
    "# y = []"
   ]
  },
  {
   "cell_type": "code",
   "execution_count": 391,
   "metadata": {},
   "outputs": [],
   "source": [
    "# def change_redshift_fix(rshft):\n",
    "    \n",
    "#     rshft_rep_R2 = []\n",
    "\n",
    "#     sft_R2 = []\n",
    "\n",
    "#     chosen_rshift_2 = rshft\n",
    "    \n",
    "#     singles_rshft = []\n",
    "    \n",
    "#     sin_sft_R2 = []\n",
    "\n",
    "\n",
    "#     for index, value in enumerate(Redshifts):\n",
    "\n",
    "#         if value == (chosen_rshift_2) and Redshifts.count(value) > 1 :\n",
    "\n",
    "#             rshft_rep_R2.append(value);\n",
    "\n",
    "#             sft_R2.append(sfr[index])\n",
    "\n",
    "#         else:\n",
    "            \n",
    "#             singles_rshft.append(value);\n",
    "            \n",
    "#             sin_sft_R2.append(sfr[index])\n",
    "            \n",
    "            \n",
    "\n",
    "\n",
    "\n",
    "\n",
    "#     nw_ls_R2 = list(zip(rshft_rep_R2, sft_R2))\n",
    "\n",
    "#     ###\n",
    "\n",
    "#     sfrr_dict_R2 = {}\n",
    "\n",
    "#     for redshift, value in nw_ls_R2:\n",
    "\n",
    "#             sfr_sums_R2 = sfrr_dict_R2.get(redshift, 0) + value\n",
    "#             sfrr_dict_R2[redshift] = sfr_sums_R2\n",
    "\n",
    "\n",
    "\n",
    "\n",
    "#     ###\n",
    "    \n",
    "#     x1 = [*sfrr_dict_R2.keys()]\n",
    "    \n",
    "#     y1 = [*sfrr_dict_R2.values()]\n",
    "    \n",
    "    \n",
    "    \n",
    "  \n",
    "    \n",
    "\n",
    "#     x.append(x1)\n",
    "    \n",
    "#     x.append(singles_rshft)\n",
    "    \n",
    "#     y.append(y1)\n",
    "    \n",
    "#     y.append(sin_sft_R2)\n",
    "    \n",
    "    \n",
    "    \n",
    "    \n",
    "    \n",
    "#     #find list of unique redshifts\n",
    "    \n",
    "    \n",
    "\n",
    "    \n",
    "#     #index arrays with matching condition\n",
    "    \n",
    "#     #sum matching redshifts\n",
    "    \n",
    "#     #plot \n",
    "    \n",
    "  "
   ]
  },
  {
   "cell_type": "code",
   "execution_count": 396,
   "metadata": {},
   "outputs": [],
   "source": [
    "# r_list = [1.3708e-06,3.51996e-05,2.53507,0.0172191,1.78224,1.28129, 0.510094, 4.18731e-05,0.510094,1.04586]\n",
    "\n",
    "\n",
    "# #r_list = [1]\n",
    "# for i in r_list:\n",
    "    \n",
    "#     change_redshift(i)\n",
    "    \n"
   ]
  },
  {
   "cell_type": "code",
   "execution_count": 8,
   "metadata": {},
   "outputs": [],
   "source": [
    "# print(x)"
   ]
  },
  {
   "cell_type": "code",
   "execution_count": 7,
   "metadata": {},
   "outputs": [],
   "source": [
    "# plt.plot(x, y)\n",
    "\n",
    "\n",
    "\n",
    "# plt.rcParams[\"figure.figsize\"] = (16,11)\n",
    "\n",
    "# plt.yscale('log')\n",
    "\n",
    "\n",
    "\n",
    "# plt.show()"
   ]
  },
  {
   "cell_type": "code",
   "execution_count": 6,
   "metadata": {},
   "outputs": [],
   "source": [
    "#list of unique redshifts (try: np unique fn)\n",
    "\n",
    "#then try sorting redshifts then sum when repeated (look at:boolean arrays --> index arrays w/ matching cndtn.)\n",
    "\n",
    "\n",
    "\n",
    "# unique_redshifts = np.unique(Redshifts)\n",
    "\n",
    "\n",
    "# #index all where csmhist1[i:0] in redshift returns true\n",
    "\n",
    "# so the condition is b \n",
    "\n",
    "# what's the condition? --> exists more than once\n",
    "\n",
    "\n",
    "\n",
    "    \n",
    "# b = (sfr.count > 1)\n",
    "\n",
    "\n",
    "\n",
    "# then a = sum of all sfr where b = true \n",
    "\n",
    "\n",
    "# if csmhist1[i:0] in unique_redshifts:\n",
    "    \n",
    "#     sfr[]\n",
    "          \n",
    "          \n",
    "          "
   ]
  },
  {
   "cell_type": "code",
   "execution_count": null,
   "metadata": {},
   "outputs": [],
   "source": [
    "#fix, w/out boolean arrays "
   ]
  },
  {
   "cell_type": "code",
   "execution_count": 5,
   "metadata": {},
   "outputs": [],
   "source": [
    "# pd.read_csv(\"/mnt/ceph/users/camels/PUBLIC_RELEASE/SCSAM/CV_1/fid-sc-sam/0_0_0/galprop_0-99.dat\", nrows=23)\n",
    "\n"
   ]
  },
  {
   "cell_type": "code",
   "execution_count": 421,
   "metadata": {},
   "outputs": [],
   "source": [
    "# x = []\n",
    "\n",
    "# y = []"
   ]
  },
  {
   "cell_type": "code",
   "execution_count": 428,
   "metadata": {},
   "outputs": [],
   "source": [
    "# Redshifts = list(csmhist1[:, 0])\n",
    "\n",
    "# sfr = list(csmhist1[:, 1])\n",
    "\n",
    "# Redshifts = Redshifts[0:100]\n",
    "\n",
    "# sfr = sfr[0:100]\n"
   ]
  },
  {
   "cell_type": "code",
   "execution_count": 426,
   "metadata": {},
   "outputs": [],
   "source": [
    "# Redshifts = [1,2,3,5,3,1, 5, 5, 4, 6]\n",
    "# # # #what i expect to get [(1, 40), (3,33), (5, 45)]\n",
    "# sfr = [10, 15, 21, 22, 12, 30, 12, 11, 10, 10]"
   ]
  },
  {
   "cell_type": "code",
   "execution_count": 4,
   "metadata": {},
   "outputs": [],
   "source": [
    "# rshft_rep = []\n",
    "\n",
    "# sft = []\n",
    "\n",
    "# for index, value in enumerate(Redshifts):\n",
    "    \n",
    "#     if Redshifts.count(value) > 1: \n",
    "        \n",
    "        \n",
    "#         rshft_rep.append(value);\n",
    "        \n",
    "#         sft.append(sfr[index])\n",
    "        \n",
    "#     if Redshifts.count(value) == 1:\n",
    "        \n",
    "#         rshft_rep.append(value);\n",
    "        \n",
    "#         sft.append(sfr[index])\n",
    "        \n",
    "    \n",
    "        \n",
    "        \n",
    "# nw_ls = list(zip(rshft_rep, sft))\n",
    "\n",
    "# print(nw_ls)\n",
    "\n",
    "\n",
    "# sfrr_dict = {}\n",
    "\n",
    "# for redshift, value in nw_ls:\n",
    "        \n",
    "#     sfr_sums = sfrr_dict.get(redshift, 0) + value\n",
    "#     sfrr_dict[redshift] = sfr_sums\n",
    "    \n",
    "    \n",
    "        \n",
    "        \n",
    "\n",
    "    \n",
    "\n"
   ]
  },
  {
   "cell_type": "code",
   "execution_count": 3,
   "metadata": {},
   "outputs": [],
   "source": [
    "# print(sfrr_dict.items())"
   ]
  },
  {
   "cell_type": "code",
   "execution_count": 450,
   "metadata": {},
   "outputs": [],
   "source": [
    "# x = sfrr_dict.keys()\n",
    "\n",
    "\n",
    "\n",
    "\n",
    "# y = sfrr_dict.values()\n",
    "\n",
    "# y = [(i)/(100**3) for i in y]\n",
    "\n"
   ]
  },
  {
   "cell_type": "code",
   "execution_count": 2,
   "metadata": {},
   "outputs": [],
   "source": [
    "# print(x)\n",
    "\n",
    "# print(y)"
   ]
  },
  {
   "cell_type": "code",
   "execution_count": 5,
   "metadata": {},
   "outputs": [],
   "source": [
    "# plt.plot(x, y)\n",
    "\n",
    "# plt.rcParams[\"figure.figsize\"] = (16,11)\n",
    "\n",
    "# plt.yscale('log')\n",
    "\n",
    "# plt.ylabel(r'$\\log Solar Mass yr^{-1} Mpc^{-3}$', fontsize = 14)\n",
    "\n",
    "# plt.xlabel(r'$\\ Redshift $', fontsize = 14)\n",
    "\n",
    "# plt.xticks(fontsize = 18)\n",
    "\n",
    "# plt.yticks(fontsize = 18)\n",
    "\n",
    "\n",
    "\n",
    "\n",
    "# plt.show()"
   ]
  },
  {
   "cell_type": "code",
   "execution_count": null,
   "metadata": {},
   "outputs": [],
   "source": [
    "#### 1 redshift at a time, using other way of pulling data in"
   ]
  },
  {
   "cell_type": "code",
   "execution_count": 6,
   "metadata": {},
   "outputs": [],
   "source": [
    "def ProcessSAMdat_single_redshift(path_to_SAM, Nsubvols, sought_z, fieldswanted, gal_or_halo):\n",
    "    g_colnames = ['halo_index', 'birthhaloid', 'roothaloid', 'redshift', 'sat_type',\n",
    "                  'mhalo', 'm_strip', 'rhalo', 'mstar', 'mbulge', 'mstar_merge', 'v_disk',\n",
    "                  'sigma_bulge', 'r_disk', 'r_bulge', 'mcold', 'mHI', 'mH2', 'mHII', 'Metal_star',\n",
    "                  \"Metal_cold\", 'sfr', 'sfrave20myr', 'sfrave100myr', 'sfrave1gyr',\n",
    "                  'mass_outflow_rate', 'metal_outflow_rate', 'mBH', 'maccdot', 'maccdot_radio',\n",
    "                  'tmerge', 'tmajmerge', 'mu_merge', 't_sat', 'r_fric', 'x_position',\n",
    "                  'y_position', 'z_position', 'vx', 'vy', 'vz']\n",
    "    h_colnames = ['halo_index', 'halo_id', 'roothaloid', 'orig_halo_ID', 'redshift', 'm_vir', 'c_nfw',\n",
    "                  'spin', 'm_hot', 'mstar_diffuse', 'mass_ejected', 'mcooldot',\n",
    "                  'maccdot_pristine', 'maccdot_reaccrete', 'maccdot_metal_reaccrete',\n",
    "                  'maccdot_metal', 'mdot_eject', 'mdot_metal_eject', 'maccdot_radio',\n",
    "                  'Metal_hot', 'Metal_ejected', 'snap_num']\n",
    "    g_header_rows = []\n",
    "    for i in range(0, len(g_colnames)):\n",
    "        g_header_rows.append(i)\n",
    "    h_header_rows = []\n",
    "    for i in range(0, len(h_colnames)):\n",
    "        h_header_rows.append(i)\n",
    "\n",
    "    input_path=path_to_SAM\n",
    "\n",
    "    if type(fieldswanted) == list:\n",
    "        print(type(fieldswanted))\n",
    "    else:\n",
    "        return \"Fieldswanted should be a list with the fields you want as strings!\"\n",
    "\n",
    "    All_halos=np.zeros((1,len(fieldswanted)))\n",
    "    if gal_or_halo==\"gal\":\n",
    "        checknums=0\n",
    "        for x_i in np.arange(0,Nsubvols,1):\n",
    "            for x_j in np.arange(0,Nsubvols,1):\n",
    "                for x_k in np.arange(0,Nsubvols,1):\n",
    "                    galprop = pd.read_csv('{}/{}_{}_{}/galprop_0-99.dat'.format(input_path, x_i, x_j, x_k),\n",
    "                                          delimiter=' ', skiprows=g_header_rows, names=g_colnames)\n",
    "                    # print('galprop read for ',x_i, x_j, x_k,' shape:', galprop.shape)\n",
    "                    current_galprops=galprop[fieldswanted[:]].to_numpy()\n",
    "                    print('For subvolume ',x_i,x_j,x_k, current_galprops.shape)\n",
    "                    unique_redshifts=set(current_galprops[:,0])\n",
    "                    unique_redshifts = np.array(sorted(unique_redshifts))\n",
    "                    # print(unique_redshifts)\n",
    "                    idx = (np.abs(unique_redshifts - sought_z)).argmin()\n",
    "                    current_galprops_z=current_galprops[np.where(current_galprops[:,0][:]==unique_redshifts[idx])[0],:]\n",
    "                    # print(current_galprops_z.shape)\n",
    "                    checknums=checknums+len(current_galprops_z)\n",
    "                    All_halos=np.concatenate((All_halos,current_galprops_z))\n",
    "        print(All_halos.shape, checknums)\n",
    "        return All_halos\n",
    "    elif gal_or_halo==\"halo\":\n",
    "        checknums2=0\n",
    "        for x_i in np.arange(0,Nsubvols,1):\n",
    "            for x_j in np.arange(0,Nsubvols,1):\n",
    "                for x_k in np.arange(0,Nsubvols,1):\n",
    "                    haloprop = pd.read_csv('{}/{}_{}_{}/haloprop_0-99.dat'.format(input_path, x_i, x_j, x_k),\n",
    "                                           delimiter=' ', skiprows=h_header_rows, names=h_colnames)\n",
    "                    current_haloprops=haloprop[fieldswanted[:]].to_numpy()\n",
    "                    print('For subvolume ',x_i,x_j,x_k, current_haloprops.shape)\n",
    "                    unique_redshifts=set(current_haloprops[:,0])\n",
    "                    unique_redshifts = np.array(sorted(unique_redshifts))\n",
    "                    idx = (np.abs(unique_redshifts - sought_z)).argmin()\n",
    "                    current_haloprops_z=current_haloprops[np.where(current_haloprops[:,0][:]==unique_redshifts[idx])[0],:]\n",
    "                    # print(current_haloprops_z.shape)\n",
    "                    checknums2=checknums2+len(current_haloprops_z)\n",
    "                    All_halos=np.concatenate((All_halos,current_haloprops_z))\n",
    "        print(All_halos.shape, checknums2)\n",
    "        return All_halos[1:,:]\n",
    "    else:\n",
    "        print(\"gal_or_halo need to be a string, either 'gal' or 'halo', to get galprop or haloprop respectively. Make sure the fields you want are actually reflected!\")\n",
    "        print(\"Column names of galprop file: \", g_colnames)\n",
    "        print(\"Column names of haloprop file: \", h_colnames)\n",
    "        return All_halos\n",
    "    "
   ]
  },
  {
   "cell_type": "code",
   "execution_count": 471,
   "metadata": {
    "scrolled": true
   },
   "outputs": [
    {
     "name": "stdout",
     "output_type": "stream",
     "text": [
      "1\n"
     ]
    }
   ],
   "source": [
    "import glob\n",
    "\n",
    "# fields_wanted = ['redshift','m_vir'] #halo mass field\n",
    "\n",
    "fields_wanted = ['redshift', 'sfr']\n",
    "#mypath = '/mnt/ceph/users/camels/PUBLIC_RELEASE/SCSAM/CV_1/fid-sc-sam/0_0_0/galprop_0-99.dat'#test path to LH_10\n",
    "\n",
    "\n",
    "mypath = '/mnt/ceph/users/camels/PUBLIC_RELEASE/SCSAM/LH_1/sc-sam'\n",
    "#count subvolumes \n",
    "subvol_dirs = glob.glob(\"%s/*_*_*\" % mypath) #mypath is root_dir in the original. Same thing?\n",
    "\n",
    "\n",
    "N_subvol = (len(subvol_dirs))\n",
    "print(N_subvol)"
   ]
  },
  {
   "cell_type": "code",
   "execution_count": 524,
   "metadata": {},
   "outputs": [],
   "source": [
    "redshifts_list = [0,1,2,3,4,5,6,7,8,9]\n",
    "\n",
    "\n",
    "\n",
    "sfrs_sums_list = []\n",
    "\n",
    "def sum_sfr(sim):\n",
    "\n",
    "    sfr = list(sim[:, 1])\n",
    "    \n",
    "    sfr_sums =sum(sfr)\n",
    "    \n",
    "    return(sfr_sums)\n",
    "    \n"
   ]
  },
  {
   "cell_type": "code",
   "execution_count": 525,
   "metadata": {},
   "outputs": [
    {
     "name": "stdout",
     "output_type": "stream",
     "text": [
      "<class 'list'>\n",
      "For subvolume  0 0 0 (10729147, 2)\n",
      "(135120, 2) 135119\n",
      "<class 'list'>\n",
      "For subvolume  0 0 0 (10729147, 2)\n",
      "(138783, 2) 138782\n",
      "<class 'list'>\n",
      "For subvolume  0 0 0 (10729147, 2)\n",
      "(125523, 2) 125522\n",
      "<class 'list'>\n",
      "For subvolume  0 0 0 (10729147, 2)\n",
      "(96572, 2) 96571\n",
      "<class 'list'>\n",
      "For subvolume  0 0 0 (10729147, 2)\n",
      "(67589, 2) 67588\n",
      "<class 'list'>\n",
      "For subvolume  0 0 0 (10729147, 2)\n",
      "(39986, 2) 39985\n",
      "<class 'list'>\n",
      "For subvolume  0 0 0 (10729147, 2)\n",
      "(18674, 2) 18673\n",
      "<class 'list'>\n",
      "For subvolume  0 0 0 (10729147, 2)\n",
      "(10452, 2) 10451\n",
      "<class 'list'>\n",
      "For subvolume  0 0 0 (10729147, 2)\n",
      "(3684, 2) 3683\n",
      "<class 'list'>\n",
      "For subvolume  0 0 0 (10729147, 2)\n",
      "(1471, 2) 1470\n"
     ]
    }
   ],
   "source": [
    "sims_list = []\n",
    "\n",
    "for i in redshifts_list:\n",
    "    \n",
    "    \n",
    "    sims_list.append(ProcessSAMdat_single_redshift(mypath, N_subvol, i, fields_wanted, 'gal'))\n",
    "    \n",
    "\n",
    "    \n"
   ]
  },
  {
   "cell_type": "code",
   "execution_count": 526,
   "metadata": {},
   "outputs": [],
   "source": [
    "for sim in sims_list:\n",
    "    \n",
    "    sfrs_sums_list.append(sum_sfr(sim))   \n"
   ]
  },
  {
   "cell_type": "code",
   "execution_count": 527,
   "metadata": {},
   "outputs": [
    {
     "name": "stdout",
     "output_type": "stream",
     "text": [
      "10\n",
      "10\n"
     ]
    }
   ],
   "source": [
    "print(len(sfrs_sums_list))\n",
    "\n",
    "print(len(redshifts_list))"
   ]
  },
  {
   "cell_type": "code",
   "execution_count": 528,
   "metadata": {},
   "outputs": [],
   "source": [
    "\n",
    "sfrs_sums_list = [i/(100**3) for i in sfrs_sums_list]\n",
    "\n"
   ]
  },
  {
   "cell_type": "code",
   "execution_count": 529,
   "metadata": {},
   "outputs": [
    {
     "data": {
      "image/png": "[encoded data removed]",
      "text/plain": [
       "<Figure size 1152x792 with 1 Axes>"
      ]
     },
     "metadata": {
      "needs_background": "light"
     },
     "output_type": "display_data"
    }
   ],
   "source": [
    "plt.plot(redshifts_list, sfrs_sums_list)\n",
    "\n",
    "plt.rcParams[\"figure.figsize\"] = (16,11)\n",
    "\n",
    "plt.yscale('log')\n",
    "\n",
    "plt.ylabel(r'$\\log Solar Mass yr^{-1} Mpc^{-3}$', fontsize = 14)\n",
    "\n",
    "plt.xlabel(r'$\\ Redshift $', fontsize = 14)\n",
    "\n",
    "plt.xticks(fontsize = 18)\n",
    "\n",
    "plt.yticks(fontsize = 18)\n",
    "\n",
    "\n",
    "\n",
    "\n",
    "plt.show()"
   ]
  },
  {
   "cell_type": "code",
   "execution_count": null,
   "metadata": {},
   "outputs": [],
   "source": [
    "#loop for all LH sims"
   ]
  },
  {
   "cell_type": "code",
   "execution_count": 10,
   "metadata": {},
   "outputs": [],
   "source": [
    "def run_for_all_sims(start, stop):\n",
    "    \n",
    "    fields_wanted = ['redshift', 'sfr']\n",
    "    \n",
    "    redshifts_list = [0,1,2,3,4,5,6,7,8,9]\n",
    "    \n",
    "    \n",
    "    rows = {\n",
    "    \n",
    "    \"redshift\": redshifts_list\n",
    "            \n",
    "    }\n",
    "    \n",
    "    \n",
    "    \n",
    "    global sfr_df\n",
    "    \n",
    "    sfr_df = pd.DataFrame(rows)\n",
    "    \n",
    "\n",
    "    \n",
    "    for i in range(start,stop):\n",
    "        \n",
    "        \n",
    "    \n",
    "        mypath = '/mnt/ceph/users/camels/PUBLIC_RELEASE/SCSAM/LH_' + str(i) + '/sc-sam'\n",
    "        \n",
    "        \n",
    "        print(mypath)\n",
    "        \n",
    "        #count subvolumes \n",
    "        subvol_dirs = glob.glob(\"%s/*_*_*\" % mypath)\n",
    "        \n",
    "        N_subvol = (len(subvol_dirs))\n",
    "        print(N_subvol)\n",
    "        \n",
    "        sfrs_sums_list = []\n",
    "        \n",
    "        sims_list = []\n",
    "\n",
    "        for i in redshifts_list:\n",
    "                \n",
    "            sims_list.append(ProcessSAMdat_single_redshift(mypath, N_subvol, i, fields_wanted, 'gal'))\n",
    "                \n",
    "        \n",
    "        \n",
    "        sfrs_sums_list = [j/(100**3) for j in sfrs_sums_list]\n",
    "        \n",
    "        \n",
    "    \n",
    "     \n",
    "        \n",
    "        sfr_df.insert(1, str(\"sfr sum\" + \" \" + str(i)), sfrs_sums_list)\n",
    "        \n",
    "        \n",
    "        \n",
    "    hmf_df[\"mean\"] = sfr_df.iloc[:,1:].mean(axis=1)\n",
    "\n",
    "    \n",
    "    hmf_df[\"std dev\"] = np.std(sfr_df.iloc[:,1:-1], axis = 1) \n",
    "    \n",
    "    "
   ]
  },
  {
   "cell_type": "code",
   "execution_count": 11,
   "metadata": {},
   "outputs": [
    {
     "name": "stdout",
     "output_type": "stream",
     "text": [
      "/mnt/ceph/users/camels/PUBLIC_RELEASE/SCSAM/LH_1/sc-sam\n",
      "1\n",
      "<class 'list'>\n",
      "For subvolume  0 0 0 (10729147, 2)\n",
      "(135120, 2) 135119\n",
      "<class 'list'>\n",
      "For subvolume  0 0 0 (10729147, 2)\n",
      "(138783, 2) 138782\n",
      "<class 'list'>\n",
      "For subvolume  0 0 0 (10729147, 2)\n",
      "(125523, 2) 125522\n",
      "<class 'list'>\n",
      "For subvolume  0 0 0 (10729147, 2)\n",
      "(96572, 2) 96571\n",
      "<class 'list'>\n",
      "For subvolume  0 0 0 (10729147, 2)\n",
      "(18674, 2) 18673\n",
      "<class 'list'>\n",
      "For subvolume  0 0 0 (10729147, 2)\n",
      "(10452, 2) 10451\n",
      "<class 'list'>\n",
      "For subvolume  0 0 0 (10729147, 2)\n",
      "(3684, 2) 3683\n",
      "<class 'list'>\n",
      "For subvolume  0 0 0 (10729147, 2)\n",
      "(1471, 2) 1470\n"
     ]
    },
    {
     "ename": "ValueError",
     "evalue": "Length of values (0) does not match length of index (10)",
     "output_type": "error",
     "traceback": [
      "\u001b[0;31m---------------------------------------------------------------------------\u001b[0m",
      "\u001b[0;31mValueError\u001b[0m                                Traceback (most recent call last)",
      "\u001b[0;32m<ipython-input-11-a8d7dc612d5a>\u001b[0m in \u001b[0;36m<module>\u001b[0;34m\u001b[0m\n\u001b[0;32m----> 1\u001b[0;31m \u001b[0mrun_for_all_sims\u001b[0m\u001b[0;34m(\u001b[0m\u001b[0;36m1\u001b[0m\u001b[0;34m,\u001b[0m \u001b[0;36m4\u001b[0m\u001b[0;34m)\u001b[0m\u001b[0;34m\u001b[0m\u001b[0;34m\u001b[0m\u001b[0m\n\u001b[0m",
      "\u001b[0;32m<ipython-input-10-e41260350d8f>\u001b[0m in \u001b[0;36mrun_for_all_sims\u001b[0;34m(start, stop)\u001b[0m\n\u001b[1;32m     51\u001b[0m \u001b[0;34m\u001b[0m\u001b[0m\n\u001b[1;32m     52\u001b[0m \u001b[0;34m\u001b[0m\u001b[0m\n\u001b[0;32m---> 53\u001b[0;31m         \u001b[0msfr_df\u001b[0m\u001b[0;34m.\u001b[0m\u001b[0minsert\u001b[0m\u001b[0;34m(\u001b[0m\u001b[0;36m1\u001b[0m\u001b[0;34m,\u001b[0m \u001b[0mstr\u001b[0m\u001b[0;34m(\u001b[0m\u001b[0;34m\"sfr sum\"\u001b[0m \u001b[0;34m+\u001b[0m \u001b[0;34m\" \"\u001b[0m \u001b[0;34m+\u001b[0m \u001b[0mstr\u001b[0m\u001b[0;34m(\u001b[0m\u001b[0mi\u001b[0m\u001b[0;34m)\u001b[0m\u001b[0;34m)\u001b[0m\u001b[0;34m,\u001b[0m \u001b[0msfrs_sums_list\u001b[0m\u001b[0;34m)\u001b[0m\u001b[0;34m\u001b[0m\u001b[0;34m\u001b[0m\u001b[0m\n\u001b[0m\u001b[1;32m     54\u001b[0m \u001b[0;34m\u001b[0m\u001b[0m\n\u001b[1;32m     55\u001b[0m \u001b[0;34m\u001b[0m\u001b[0m\n",
      "\u001b[0;32m/srv/conda/envs/notebook/lib/python3.7/site-packages/pandas/core/frame.py\u001b[0m in \u001b[0;36minsert\u001b[0;34m(self, loc, column, value, allow_duplicates)\u001b[0m\n\u001b[1;32m   4416\u001b[0m             \u001b[0;32mraise\u001b[0m \u001b[0mTypeError\u001b[0m\u001b[0;34m(\u001b[0m\u001b[0;34m\"loc must be int\"\u001b[0m\u001b[0;34m)\u001b[0m\u001b[0;34m\u001b[0m\u001b[0;34m\u001b[0m\u001b[0m\n\u001b[1;32m   4417\u001b[0m \u001b[0;34m\u001b[0m\u001b[0m\n\u001b[0;32m-> 4418\u001b[0;31m         \u001b[0mvalue\u001b[0m \u001b[0;34m=\u001b[0m \u001b[0mself\u001b[0m\u001b[0;34m.\u001b[0m\u001b[0m_sanitize_column\u001b[0m\u001b[0;34m(\u001b[0m\u001b[0mvalue\u001b[0m\u001b[0;34m)\u001b[0m\u001b[0;34m\u001b[0m\u001b[0;34m\u001b[0m\u001b[0m\n\u001b[0m\u001b[1;32m   4419\u001b[0m         \u001b[0mself\u001b[0m\u001b[0;34m.\u001b[0m\u001b[0m_mgr\u001b[0m\u001b[0;34m.\u001b[0m\u001b[0minsert\u001b[0m\u001b[0;34m(\u001b[0m\u001b[0mloc\u001b[0m\u001b[0;34m,\u001b[0m \u001b[0mcolumn\u001b[0m\u001b[0;34m,\u001b[0m \u001b[0mvalue\u001b[0m\u001b[0;34m)\u001b[0m\u001b[0;34m\u001b[0m\u001b[0;34m\u001b[0m\u001b[0m\n\u001b[1;32m   4420\u001b[0m \u001b[0;34m\u001b[0m\u001b[0m\n",
      "\u001b[0;32m/srv/conda/envs/notebook/lib/python3.7/site-packages/pandas/core/frame.py\u001b[0m in \u001b[0;36m_sanitize_column\u001b[0;34m(self, value)\u001b[0m\n\u001b[1;32m   4507\u001b[0m \u001b[0;34m\u001b[0m\u001b[0m\n\u001b[1;32m   4508\u001b[0m         \u001b[0;32mif\u001b[0m \u001b[0mis_list_like\u001b[0m\u001b[0;34m(\u001b[0m\u001b[0mvalue\u001b[0m\u001b[0;34m)\u001b[0m\u001b[0;34m:\u001b[0m\u001b[0;34m\u001b[0m\u001b[0;34m\u001b[0m\u001b[0m\n\u001b[0;32m-> 4509\u001b[0;31m             \u001b[0mcom\u001b[0m\u001b[0;34m.\u001b[0m\u001b[0mrequire_length_match\u001b[0m\u001b[0;34m(\u001b[0m\u001b[0mvalue\u001b[0m\u001b[0;34m,\u001b[0m \u001b[0mself\u001b[0m\u001b[0;34m.\u001b[0m\u001b[0mindex\u001b[0m\u001b[0;34m)\u001b[0m\u001b[0;34m\u001b[0m\u001b[0;34m\u001b[0m\u001b[0m\n\u001b[0m\u001b[1;32m   4510\u001b[0m         \u001b[0;32mreturn\u001b[0m \u001b[0msanitize_array\u001b[0m\u001b[0;34m(\u001b[0m\u001b[0mvalue\u001b[0m\u001b[0;34m,\u001b[0m \u001b[0mself\u001b[0m\u001b[0;34m.\u001b[0m\u001b[0mindex\u001b[0m\u001b[0;34m,\u001b[0m \u001b[0mcopy\u001b[0m\u001b[0;34m=\u001b[0m\u001b[0;32mTrue\u001b[0m\u001b[0;34m,\u001b[0m \u001b[0mallow_2d\u001b[0m\u001b[0;34m=\u001b[0m\u001b[0;32mTrue\u001b[0m\u001b[0;34m)\u001b[0m\u001b[0;34m\u001b[0m\u001b[0;34m\u001b[0m\u001b[0m\n\u001b[1;32m   4511\u001b[0m \u001b[0;34m\u001b[0m\u001b[0m\n",
      "\u001b[0;32m/srv/conda/envs/notebook/lib/python3.7/site-packages/pandas/core/common.py\u001b[0m in \u001b[0;36mrequire_length_match\u001b[0;34m(data, index)\u001b[0m\n\u001b[1;32m    530\u001b[0m     \u001b[0;32mif\u001b[0m \u001b[0mlen\u001b[0m\u001b[0;34m(\u001b[0m\u001b[0mdata\u001b[0m\u001b[0;34m)\u001b[0m \u001b[0;34m!=\u001b[0m \u001b[0mlen\u001b[0m\u001b[0;34m(\u001b[0m\u001b[0mindex\u001b[0m\u001b[0;34m)\u001b[0m\u001b[0;34m:\u001b[0m\u001b[0;34m\u001b[0m\u001b[0;34m\u001b[0m\u001b[0m\n\u001b[1;32m    531\u001b[0m         raise ValueError(\n\u001b[0;32m--> 532\u001b[0;31m             \u001b[0;34m\"Length of values \"\u001b[0m\u001b[0;34m\u001b[0m\u001b[0;34m\u001b[0m\u001b[0m\n\u001b[0m\u001b[1;32m    533\u001b[0m             \u001b[0;34mf\"({len(data)}) \"\u001b[0m\u001b[0;34m\u001b[0m\u001b[0;34m\u001b[0m\u001b[0m\n\u001b[1;32m    534\u001b[0m             \u001b[0;34m\"does not match length of index \"\u001b[0m\u001b[0;34m\u001b[0m\u001b[0;34m\u001b[0m\u001b[0m\n",
      "\u001b[0;31mValueError\u001b[0m: Length of values (0) does not match length of index (10)"
     ]
    }
   ],
   "source": [
    "run_for_all_sims(1, 4)"
   ]
  },
  {
   "cell_type": "code",
   "execution_count": null,
   "metadata": {},
   "outputs": [],
   "source": []
  }
 ],
 "metadata": {
  "kernelspec": {
   "display_name": "Python 3",
   "language": "python",
   "name": "python3"
  },
  "language_info": {
   "codemirror_mode": {
    "name": "ipython",
    "version": 3
   },
   "file_extension": ".py",
   "mimetype": "text/x-python",
   "name": "python",
   "nbconvert_exporter": "python",
   "pygments_lexer": "ipython3",
   "version": "3.7.3"
  }
 },
 "nbformat": 4,
 "nbformat_minor": 4
}
